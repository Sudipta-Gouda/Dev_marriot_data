{
 "cells": [
  {
   "cell_type": "code",
   "execution_count": 0,
   "metadata": {
    "application/vnd.databricks.v1+cell": {
     "cellMetadata": {},
     "inputWidgets": {},
     "nuid": "1e95cf0c-76d4-462f-a697-165825d5eaac",
     "showTitle": false,
     "tableResultSettingsMap": {},
     "title": ""
    }
   },
   "outputs": [],
   "source": [
    "there 8 types scd\n",
    "\n",
    "0-6"
   ]
  },
  {
   "cell_type": "markdown",
   "metadata": {
    "application/vnd.databricks.v1+cell": {
     "cellMetadata": {},
     "inputWidgets": {},
     "nuid": "999abb97-f9fb-4151-b946-c072f7104634",
     "showTitle": false,
     "tableResultSettingsMap": {},
     "title": ""
    }
   },
   "source": [
    "#scd type 0 - Fixed Dimesnion\n"
   ]
  },
  {
   "cell_type": "code",
   "execution_count": 0,
   "metadata": {
    "application/vnd.databricks.v1+cell": {
     "cellMetadata": {
      "byteLimit": 2048000,
      "implicitDf": true,
      "rowLimit": 10000
     },
     "inputWidgets": {},
     "nuid": "05a6898e-fba3-43b4-92c1-2906e3573464",
     "showTitle": false,
     "tableResultSettingsMap": {},
     "title": ""
    }
   },
   "outputs": [],
   "source": [
    "%sql\n",
    "drop table if exists scd_type0;"
   ]
  },
  {
   "cell_type": "code",
   "execution_count": 0,
   "metadata": {
    "application/vnd.databricks.v1+cell": {
     "cellMetadata": {
      "byteLimit": 2048000,
      "rowLimit": 10000
     },
     "inputWidgets": {},
     "nuid": "abc73297-63b2-4ce7-a867-eeb017009c1d",
     "showTitle": false,
     "tableResultSettingsMap": {},
     "title": ""
    }
   },
   "outputs": [],
   "source": [
    "\n",
    "from pyspark.sql.functions import *\n",
    "from pyspark.sql.types import *\n",
    "\n",
    "data = [(101,'himanshu',25,'M'),\n",
    "        (201,'sachin',23,'M'),\n",
    "        (301,'sanant',24,'M'),\n",
    "        (401,'boon',24,'M'),\n",
    "        (501,'sudip',28,'M')]\n",
    "\n",
    "schema = StructType([StructField('id',IntegerType(),True),\n",
    "                     StructField('name',StringType(),True),\n",
    "                     StructField('age',IntegerType(),True),\n",
    "                     StructField('gender',StringType(),True)])\n",
    "\n",
    "df_type0 = spark.createDataFrame(data,schema)\n",
    "df_type0.display()"
   ]
  },
  {
   "cell_type": "code",
   "execution_count": 0,
   "metadata": {
    "application/vnd.databricks.v1+cell": {
     "cellMetadata": {
      "byteLimit": 2048000,
      "rowLimit": 10000
     },
     "inputWidgets": {},
     "nuid": "5bd6dc72-9114-4b02-85db-0bb4721af29e",
     "showTitle": false,
     "tableResultSettingsMap": {},
     "title": ""
    }
   },
   "outputs": [],
   "source": [
    "#target table\n",
    "from delta.tables import DeltaTable\n",
    "\n",
    "df_type0.write.mode('overwrite').saveAsTable('workspace.default.scd_type0')\n",
    "\n",
    "df_target = DeltaTable.forName(spark,'scd_type0')\n",
    "df_target.toDF().display()"
   ]
  },
  {
   "cell_type": "code",
   "execution_count": 0,
   "metadata": {
    "application/vnd.databricks.v1+cell": {
     "cellMetadata": {
      "byteLimit": 2048000,
      "rowLimit": 10000
     },
     "inputWidgets": {},
     "nuid": "5318a590-e4d4-4b4a-a73b-fd94f8e1af91",
     "showTitle": false,
     "tableResultSettingsMap": {},
     "title": ""
    }
   },
   "outputs": [],
   "source": [
    "#day 1 - batch file - \n",
    "\n",
    "data = [(102,'raja',30,'M'),\n",
    "        (103,'pinky',23,'F'),\n",
    "        (106,'Shyam',24,'M'),\n",
    "        (501,'sudip',28,'F')]\n",
    "\n",
    "schema = StructType([StructField('id',IntegerType(),True),\n",
    "                     StructField('name',StringType(),True),\n",
    "                     StructField('age',IntegerType(),True),\n",
    "                     StructField('gender',StringType(),True)])\n",
    "\n",
    "df_source = spark.createDataFrame(data,schema)\n",
    "df_source.display()"
   ]
  },
  {
   "cell_type": "code",
   "execution_count": 0,
   "metadata": {
    "application/vnd.databricks.v1+cell": {
     "cellMetadata": {},
     "inputWidgets": {},
     "nuid": "c5d5a655-d78e-48a7-84f3-8e40909bd905",
     "showTitle": false,
     "tableResultSettingsMap": {},
     "title": ""
    }
   },
   "outputs": [],
   "source": [
    "%sql\n",
    "\n",
    "MERGE INTO df_target T\n",
    "USING df_source S\n",
    "ON T.id=S.id\n",
    "WHEN NOT MATCHED THEN\n",
    "INSERT INTO VALUES(S.id,S.name,S.age,S.gender)"
   ]
  },
  {
   "cell_type": "code",
   "execution_count": 0,
   "metadata": {
    "application/vnd.databricks.v1+cell": {
     "cellMetadata": {
      "byteLimit": 2048000,
      "rowLimit": 10000
     },
     "inputWidgets": {},
     "nuid": "cb89a558-d76f-4a23-a4c4-074fb8fd3eae",
     "showTitle": false,
     "tableResultSettingsMap": {},
     "title": ""
    }
   },
   "outputs": [],
   "source": [
    "df_target.alias('t').merge(df_source.alias('s'),'t.id=s.id').whenNotMatchedInsertAll().execute()"
   ]
  },
  {
   "cell_type": "code",
   "execution_count": 0,
   "metadata": {
    "application/vnd.databricks.v1+cell": {
     "cellMetadata": {
      "byteLimit": 2048000,
      "rowLimit": 10000
     },
     "inputWidgets": {},
     "nuid": "aa251e4a-1de2-4f41-8a7a-e2926a054ed8",
     "showTitle": false,
     "tableResultSettingsMap": {},
     "title": ""
    }
   },
   "outputs": [],
   "source": [
    "df_target.toDF().display()"
   ]
  },
  {
   "cell_type": "markdown",
   "metadata": {
    "application/vnd.databricks.v1+cell": {
     "cellMetadata": {},
     "inputWidgets": {},
     "nuid": "eac0e979-328e-40b2-8d55-3fdcc8a40aa8",
     "showTitle": false,
     "tableResultSettingsMap": {},
     "title": ""
    }
   },
   "source": [
    "#SCD type 1"
   ]
  },
  {
   "cell_type": "code",
   "execution_count": 0,
   "metadata": {
    "application/vnd.databricks.v1+cell": {
     "cellMetadata": {
      "byteLimit": 2048000,
      "rowLimit": 10000
     },
     "inputWidgets": {},
     "nuid": "e66ed6b6-918b-4f54-8eec-5636a32cd7e5",
     "showTitle": false,
     "tableResultSettingsMap": {},
     "title": ""
    }
   },
   "outputs": [],
   "source": [
    "df_target.toDF().display()"
   ]
  },
  {
   "cell_type": "code",
   "execution_count": 0,
   "metadata": {
    "application/vnd.databricks.v1+cell": {
     "cellMetadata": {
      "byteLimit": 2048000,
      "rowLimit": 10000
     },
     "inputWidgets": {},
     "nuid": "241bfd8b-c772-4718-aca2-81376bf54bf4",
     "showTitle": false,
     "tableResultSettingsMap": {},
     "title": ""
    }
   },
   "outputs": [],
   "source": [
    "#2nd batch file\n",
    "\n",
    "df_source1 = spark.createDataFrame([(101,'Himanshu',27,'M'),\n",
    "                                    (201,'sachin',25,'M'),\n",
    "                                    (210,'Ram',24,'M')],schema=(StructType([StructField('id',IntegerType(),True),\n",
    "                     StructField('name',StringType(),True),\n",
    "                     StructField('age',IntegerType(),True),\n",
    "                     StructField('gender',StringType(),True)])))\n",
    "df_source1.display()"
   ]
  },
  {
   "cell_type": "code",
   "execution_count": 0,
   "metadata": {
    "application/vnd.databricks.v1+cell": {
     "cellMetadata": {
      "byteLimit": 2048000,
      "rowLimit": 10000
     },
     "inputWidgets": {},
     "nuid": "3ef72bf4-ac8c-4d7d-875d-cdb047e49bd7",
     "showTitle": false,
     "tableResultSettingsMap": {
      "0": {
       "dataGridStateBlob": "{\"version\":1,\"tableState\":{\"columnPinning\":{\"left\":[\"#row_number#\"],\"right\":[]},\"columnSizing\":{},\"columnVisibility\":{}},\"settings\":{\"columns\":{}},\"syncTimestamp\":1754134144990}",
       "filterBlob": null,
       "queryPlanFiltersBlob": null,
       "tableResultIndex": 0
      }
     },
     "title": ""
    }
   },
   "outputs": [],
   "source": [
    "df_target.alias('t').merge(df_source1.alias('s'),'t.id=s.id').whenMatchedUpdate(\n",
    "    set={'name':'lower(s.name)','age':'s.age'}\n",
    ").whenNotMatchedInsertAll().execute()\n",
    "df_target.toDF().display()"
   ]
  },
  {
   "cell_type": "markdown",
   "metadata": {
    "application/vnd.databricks.v1+cell": {
     "cellMetadata": {},
     "inputWidgets": {},
     "nuid": "07fdcc9a-6565-433d-9604-62f772761319",
     "showTitle": false,
     "tableResultSettingsMap": {},
     "title": ""
    }
   },
   "source": [
    "# SCD type 2"
   ]
  },
  {
   "cell_type": "code",
   "execution_count": 0,
   "metadata": {
    "application/vnd.databricks.v1+cell": {
     "cellMetadata": {
      "byteLimit": 2048000,
      "rowLimit": 10000
     },
     "inputWidgets": {},
     "nuid": "7c989b31-4486-4081-b020-7fe231dde197",
     "showTitle": false,
     "tableResultSettingsMap": {},
     "title": ""
    }
   },
   "outputs": [],
   "source": [
    "#curr_rec_ind,active_flag_ind,status\n",
    "df = spark.sql(\"\"\"select id,name,age,gender,'Y' as curr_rec_ind from scd_type0\"\"\")\n",
    "\n",
    "#lets re write to the delta table\n",
    "df.write.format('delta').mode('overwrite').option('overwriteSchema',True).saveAsTable('scd_type0')\n",
    "DeltaTable.forName(spark,'scd_type0').toDF().display()"
   ]
  },
  {
   "cell_type": "code",
   "execution_count": 0,
   "metadata": {
    "application/vnd.databricks.v1+cell": {
     "cellMetadata": {
      "byteLimit": 2048000,
      "rowLimit": 10000
     },
     "inputWidgets": {},
     "nuid": "8b4cf8b2-0356-438b-9a8f-95c32a674994",
     "showTitle": false,
     "tableResultSettingsMap": {},
     "title": ""
    }
   },
   "outputs": [],
   "source": [
    "#3rd batch file \n",
    "from pyspark.sql.functions import *\n",
    "from pyspark.sql.types import *\n",
    "\n",
    "df_source2 = spark.createDataFrame([(101,'himanshu',29,'M'),\n",
    "                                    (201,'sachin',24,'M'),\n",
    "                                    (210,'Ram',27,'M'),\n",
    "                                    (215,'sipu',21,'M')],schema=(StructType([StructField('id',IntegerType(),True),\n",
    "                     StructField('name',StringType(),True),\n",
    "                     StructField('age',IntegerType(),True),\n",
    "                     StructField('gender',StringType(),True)])))\n",
    "df_source2.display()"
   ]
  },
  {
   "cell_type": "code",
   "execution_count": 0,
   "metadata": {
    "application/vnd.databricks.v1+cell": {
     "cellMetadata": {
      "byteLimit": 2048000,
      "rowLimit": 10000
     },
     "inputWidgets": {},
     "nuid": "c19056da-1252-44cf-9dc7-27e9fb88ae73",
     "showTitle": false,
     "tableResultSettingsMap": {},
     "title": ""
    }
   },
   "outputs": [],
   "source": [
    "from delta.tables import DeltaTable\n",
    "\n",
    "df_target1 = DeltaTable.forName(spark,'scd_type0')\n",
    "df_target1.toDF().display()\n",
    " "
   ]
  },
  {
   "cell_type": "code",
   "execution_count": 0,
   "metadata": {
    "application/vnd.databricks.v1+cell": {
     "cellMetadata": {
      "byteLimit": 2048000,
      "rowLimit": 10000
     },
     "inputWidgets": {},
     "nuid": "e8dffdf4-3a9a-4ff0-90c9-ab6cab07dd81",
     "showTitle": false,
     "tableResultSettingsMap": {},
     "title": ""
    }
   },
   "outputs": [],
   "source": [
    "df_target1.alias('t').merge(df_source2.alias('s'),'t.id=s.id').whenMatchedUpdate(set={'curr_rec_ind':lit('N')}).whenNotMatchedInsert(values={'id':'s.id','name':'s.name','age':'s.age','gender':'s.gender','curr_rec_ind':lit('Y')}).execute()"
   ]
  },
  {
   "cell_type": "code",
   "execution_count": 0,
   "metadata": {
    "application/vnd.databricks.v1+cell": {
     "cellMetadata": {
      "byteLimit": 2048000,
      "rowLimit": 10000
     },
     "inputWidgets": {},
     "nuid": "7f76dee8-a710-4ae3-b187-dc6c48702cfa",
     "showTitle": false,
     "tableResultSettingsMap": {
      "0": {
       "dataGridStateBlob": "{\"version\":1,\"tableState\":{\"columnPinning\":{\"left\":[\"#row_number#\"],\"right\":[]},\"columnSizing\":{},\"columnVisibility\":{}},\"settings\":{\"columns\":{}},\"syncTimestamp\":1754136001376}",
       "filterBlob": null,
       "queryPlanFiltersBlob": null,
       "tableResultIndex": 0
      }
     },
     "title": ""
    }
   },
   "outputs": [],
   "source": [
    "df_target1.toDF().display()"
   ]
  },
  {
   "cell_type": "code",
   "execution_count": 0,
   "metadata": {
    "application/vnd.databricks.v1+cell": {
     "cellMetadata": {},
     "inputWidgets": {},
     "nuid": "0a0f49f5-f246-4750-b8dc-0e55c1558476",
     "showTitle": false,
     "tableResultSettingsMap": {},
     "title": ""
    }
   },
   "outputs": [],
   "source": [
    "\n",
    "301\tsanant\t24\tM\tY\n",
    "401\tboon\t24\tM\tY\n",
    "501\tsudip\t28\tM\tY\n",
    "102\traja\t30\tM\tY\n",
    "103\tpinky\t23\tF\tY\n",
    "106\tShyam\t24\tM\tY\n",
    "101\thimanshu\t27\tM\tY\n",
    "210\tRam\t24\tM\tY\n",
    "\n",
    "\n",
    "id\tname\tage\tgender\n",
    "101\thimanshu\t29\tM\n",
    "201\tsachin\t24\tM\n",
    "210\tRam\t27\tM\n",
    "215\tsipu\t21\tM"
   ]
  },
  {
   "cell_type": "code",
   "execution_count": 0,
   "metadata": {
    "application/vnd.databricks.v1+cell": {
     "cellMetadata": {
      "byteLimit": 2048000,
      "rowLimit": 10000
     },
     "inputWidgets": {},
     "nuid": "d2cc5f56-6700-403c-8296-0ad5ca87f050",
     "showTitle": false,
     "tableResultSettingsMap": {},
     "title": ""
    }
   },
   "outputs": [],
   "source": [
    "df_target1.alias('t').merge(df_source2.alias('s'),'t.id=s.id and t.curr_rec_ind=\"Y\"').whenNotMatchedInsert(values={'id':'s.id','name':'s.name','age':'s.age','gender':'s.gender','curr_rec_ind':lit('Y')}).execute()"
   ]
  },
  {
   "cell_type": "code",
   "execution_count": 0,
   "metadata": {
    "application/vnd.databricks.v1+cell": {
     "cellMetadata": {
      "byteLimit": 2048000,
      "rowLimit": 10000
     },
     "inputWidgets": {},
     "nuid": "a016dace-ed7c-4263-addb-7e6aa6528250",
     "showTitle": false,
     "tableResultSettingsMap": {
      "0": {
       "dataGridStateBlob": "{\"version\":1,\"tableState\":{\"columnPinning\":{\"left\":[\"#row_number#\"],\"right\":[]},\"columnSizing\":{},\"columnVisibility\":{}},\"settings\":{\"columns\":{}},\"syncTimestamp\":1754136433831}",
       "filterBlob": null,
       "queryPlanFiltersBlob": null,
       "tableResultIndex": 0
      }
     },
     "title": ""
    }
   },
   "outputs": [],
   "source": [
    "df_target1.toDF().display()"
   ]
  },
  {
   "cell_type": "code",
   "execution_count": 0,
   "metadata": {
    "application/vnd.databricks.v1+cell": {
     "cellMetadata": {
      "byteLimit": 2048000,
      "rowLimit": 10000
     },
     "inputWidgets": {},
     "nuid": "c2fd4c72-dc52-4775-b07e-e2bd740cc03d",
     "showTitle": false,
     "tableResultSettingsMap": {},
     "title": ""
    }
   },
   "outputs": [],
   "source": [
    "df_source3 = spark.createDataFrame(\n",
    "    [(101, \"himanshu\", 32, \"M\")],\n",
    "    schema=(\n",
    "        StructType(\n",
    "            [\n",
    "                StructField(\"id\", IntegerType(), True),\n",
    "                StructField(\"name\", StringType(), True),\n",
    "                StructField(\"age\", IntegerType(), True),\n",
    "                StructField(\"gender\", StringType(), True),\n",
    "            ]\n",
    "        )\n",
    "    ),\n",
    ")\n",
    "df_source3.display()"
   ]
  },
  {
   "cell_type": "code",
   "execution_count": 0,
   "metadata": {
    "application/vnd.databricks.v1+cell": {
     "cellMetadata": {
      "byteLimit": 2048000,
      "rowLimit": 10000
     },
     "inputWidgets": {},
     "nuid": "c920ca12-294d-4e8f-8863-46828f98e541",
     "showTitle": false,
     "tableResultSettingsMap": {},
     "title": ""
    }
   },
   "outputs": [],
   "source": [
    "df_target1.alias('t').merge(df_source3.alias('s'),'t.id=s.id').whenMatchedUpdate(set={'curr_rec_ind':lit('N')}).whenNotMatchedInsert(values={'id':'s.id','name':'s.name','age':'s.age','gender':'s.gender','curr_rec_ind':lit('Y')}).execute()"
   ]
  },
  {
   "cell_type": "code",
   "execution_count": 0,
   "metadata": {
    "application/vnd.databricks.v1+cell": {
     "cellMetadata": {
      "byteLimit": 2048000,
      "rowLimit": 10000
     },
     "inputWidgets": {},
     "nuid": "56b9a97d-506d-44b0-be7a-75de41d0fcd5",
     "showTitle": false,
     "tableResultSettingsMap": {},
     "title": ""
    }
   },
   "outputs": [],
   "source": [
    "df_target1.alias('t').merge(df_source3.alias('s'),'t.id=s.id and t.curr_rec_ind=\"Y\"').whenNotMatchedInsert(values={'id':'s.id','name':'s.name','age':'s.age','gender':'s.gender','curr_rec_ind':lit('Y')}).execute()"
   ]
  },
  {
   "cell_type": "code",
   "execution_count": 0,
   "metadata": {
    "application/vnd.databricks.v1+cell": {
     "cellMetadata": {
      "byteLimit": 2048000,
      "rowLimit": 10000
     },
     "inputWidgets": {},
     "nuid": "9e6c04e7-1b03-45b7-b4b2-363a59b9e20f",
     "showTitle": false,
     "tableResultSettingsMap": {
      "0": {
       "dataGridStateBlob": "{\"version\":1,\"tableState\":{\"columnPinning\":{\"left\":[\"#row_number#\"],\"right\":[]},\"columnSizing\":{},\"columnVisibility\":{}},\"settings\":{\"columns\":{}},\"syncTimestamp\":1754136653006}",
       "filterBlob": null,
       "queryPlanFiltersBlob": null,
       "tableResultIndex": 0
      }
     },
     "title": ""
    }
   },
   "outputs": [],
   "source": [
    "df_target1.toDF().display()"
   ]
  },
  {
   "cell_type": "code",
   "execution_count": 0,
   "metadata": {
    "application/vnd.databricks.v1+cell": {
     "cellMetadata": {
      "byteLimit": 2048000,
      "rowLimit": 10000
     },
     "inputWidgets": {},
     "nuid": "48f00fb6-e3d7-4650-8aee-97e274756f50",
     "showTitle": false,
     "tableResultSettingsMap": {
      "0": {
       "dataGridStateBlob": "{\"version\":1,\"tableState\":{\"columnPinning\":{\"left\":[\"#row_number#\"],\"right\":[]},\"columnSizing\":{},\"columnVisibility\":{}},\"settings\":{\"columns\":{}},\"syncTimestamp\":1754137316053}",
       "filterBlob": null,
       "queryPlanFiltersBlob": null,
       "tableResultIndex": 0
      }
     },
     "title": ""
    }
   },
   "outputs": [],
   "source": [
    "df_target.toDF().display()"
   ]
  },
  {
   "cell_type": "code",
   "execution_count": 0,
   "metadata": {
    "application/vnd.databricks.v1+cell": {
     "cellMetadata": {
      "byteLimit": 2048000,
      "rowLimit": 10000
     },
     "inputWidgets": {},
     "nuid": "739e76dc-2a1d-4eec-9c88-9f6eb58033e3",
     "showTitle": false,
     "tableResultSettingsMap": {},
     "title": ""
    }
   },
   "outputs": [],
   "source": [
    "#start_ts  end_ts\n",
    "\n",
    "df=spark.sql(\"\"\"select id,name,age,gender,'Y' as curr_rec_ind,current_date as start_ts,'null' as end_ts from scd_type0\"\"\")\n",
    "\n",
    "df.write.mode(\"overwrite\").option('mergeSchema','true').saveAsTable(\"scd_type0\")\n",
    "\n",
    "df_target = DeltaTable.forName(spark,\"scd_type0\")\n",
    "df_target.toDF().display()\n"
   ]
  },
  {
   "cell_type": "code",
   "execution_count": 0,
   "metadata": {
    "application/vnd.databricks.v1+cell": {
     "cellMetadata": {
      "byteLimit": 2048000,
      "implicitDf": true,
      "rowLimit": 10000
     },
     "inputWidgets": {},
     "nuid": "4e4c0d49-4f5c-4c1b-8dab-d9f08d45e7a2",
     "showTitle": false,
     "tableResultSettingsMap": {},
     "title": ""
    }
   },
   "outputs": [],
   "source": [
    "%sql\n",
    "update scd_type0 set end_ts=null;\n",
    "    \n",
    "select * from scd_type0;"
   ]
  },
  {
   "cell_type": "code",
   "execution_count": 0,
   "metadata": {
    "application/vnd.databricks.v1+cell": {
     "cellMetadata": {
      "byteLimit": 2048000,
      "rowLimit": 10000
     },
     "inputWidgets": {},
     "nuid": "75fb4cdb-4cac-412c-aa97-965c2856c6c2",
     "showTitle": false,
     "tableResultSettingsMap": {},
     "title": ""
    }
   },
   "outputs": [],
   "source": [
    "#batch file\n",
    "df_source4 = spark.createDataFrame(\n",
    "    [(101, \"himanshu\", 32, \"M\"),\n",
    "     (401,'boon',28,'M'),\n",
    "     (210,'Ram',27,'M'),\n",
    "     (215,'sipu',21,'M')],\n",
    "    schema=(\n",
    "        StructType(\n",
    "            [\n",
    "                StructField(\"id\", IntegerType(), True),\n",
    "                StructField(\"name\", StringType(), True),\n",
    "                StructField(\"age\", IntegerType(), True),\n",
    "                StructField(\"gender\", StringType(), True),\n",
    "             ]\n",
    "        )\n",
    "    ),\n",
    ")\n",
    "df_source4.display()"
   ]
  },
  {
   "cell_type": "code",
   "execution_count": 0,
   "metadata": {
    "application/vnd.databricks.v1+cell": {
     "cellMetadata": {
      "byteLimit": 2048000,
      "rowLimit": 10000
     },
     "inputWidgets": {},
     "nuid": "ab30a254-71f1-4aed-bbc4-460686c38dcc",
     "showTitle": false,
     "tableResultSettingsMap": {
      "0": {
       "dataGridStateBlob": "{\"version\":1,\"tableState\":{\"columnPinning\":{\"left\":[\"#row_number#\"],\"right\":[]},\"columnSizing\":{},\"columnVisibility\":{}},\"settings\":{\"columns\":{}},\"syncTimestamp\":1754138229108}",
       "filterBlob": null,
       "queryPlanFiltersBlob": null,
       "tableResultIndex": 0
      }
     },
     "title": ""
    }
   },
   "outputs": [],
   "source": [
    "df_target.alias('t').merge(df_source4.alias('s'),'t.id=s.id').whenMatchedUpdate(set={'curr_rec_ind':lit('N'),'end_ts':current_date()}).whenNotMatchedInsert(values={'id':'s.id','name':'s.name','age':'s.age','gender':'s.gender','curr_rec_ind':lit('Y'),'start_ts':current_date(),'end_ts':'null'}).execute()\n",
    "df_target.toDF().display()\n"
   ]
  },
  {
   "cell_type": "code",
   "execution_count": 0,
   "metadata": {
    "application/vnd.databricks.v1+cell": {
     "cellMetadata": {
      "byteLimit": 2048000,
      "rowLimit": 10000
     },
     "inputWidgets": {},
     "nuid": "85bea285-e271-4921-9aa6-ae6d12dca53e",
     "showTitle": false,
     "tableResultSettingsMap": {
      "0": {
       "dataGridStateBlob": "{\"version\":1,\"tableState\":{\"columnPinning\":{\"left\":[\"#row_number#\"],\"right\":[]},\"columnSizing\":{},\"columnVisibility\":{}},\"settings\":{\"columns\":{}},\"syncTimestamp\":1754138323698}",
       "filterBlob": null,
       "queryPlanFiltersBlob": null,
       "tableResultIndex": 0
      }
     },
     "title": ""
    }
   },
   "outputs": [],
   "source": [
    "df_target.alias('t').merge(df_source4.alias('s'),'t.id=s.id and t.curr_rec_ind=\"Y\"').whenNotMatchedInsert(values={'id':'s.id','name':'s.name','age':'s.age','gender':'s.gender','curr_rec_ind':lit('Y'),'start_ts':current_date(),'end_ts':'null'}).execute()\n",
    "df_target.toDF().display()"
   ]
  },
  {
   "cell_type": "code",
   "execution_count": 0,
   "metadata": {
    "application/vnd.databricks.v1+cell": {
     "cellMetadata": {
      "byteLimit": 2048000,
      "rowLimit": 10000
     },
     "inputWidgets": {},
     "nuid": "f41475ad-c28e-4a10-be24-52414bbcca49",
     "showTitle": false,
     "tableResultSettingsMap": {},
     "title": ""
    }
   },
   "outputs": [],
   "source": [
    "#3rd scenario:-\n",
    "#batch file\n",
    "df_source5 = spark.createDataFrame(\n",
    "    [(101, \"himanshu\", 32, \"M\"),\n",
    "     (515,'rammmm',37,'F')],\n",
    "    schema=(\n",
    "        StructType(\n",
    "            [\n",
    "                StructField(\"id\", IntegerType(), True),\n",
    "                StructField(\"name\", StringType(), True),\n",
    "                StructField(\"age\", IntegerType(), True),\n",
    "                StructField(\"gender\", StringType(), True),\n",
    "            ]\n",
    "        )\n",
    "    ),\n",
    ")\n",
    "df_source5.display()"
   ]
  },
  {
   "cell_type": "code",
   "execution_count": 0,
   "metadata": {
    "application/vnd.databricks.v1+cell": {
     "cellMetadata": {
      "byteLimit": 2048000,
      "rowLimit": 10000
     },
     "inputWidgets": {},
     "nuid": "1d8e3704-1293-4e68-b5fb-d99107b582a8",
     "showTitle": false,
     "tableResultSettingsMap": {},
     "title": ""
    }
   },
   "outputs": [],
   "source": [
    "df_target.alias('t').merge(df_source5.alias('s'),'t.id=s.id').whenMatchedUpdate(set={'curr_rec_ind':lit('N'),'end_ts':current_date()}).whenNotMatchedInsert(values={'id':'s.id','name':'s.name','age':'s.age','gender':'s.gender','curr_rec_ind':lit('Y'),'start_ts':current_date(),'end_ts':'null'}).execute()\n",
    "df_target.toDF().display()"
   ]
  },
  {
   "cell_type": "code",
   "execution_count": 0,
   "metadata": {
    "application/vnd.databricks.v1+cell": {
     "cellMetadata": {
      "byteLimit": 2048000,
      "rowLimit": 10000
     },
     "inputWidgets": {},
     "nuid": "92db34a3-f4f6-45c3-bf90-f51c2d43ae4c",
     "showTitle": false,
     "tableResultSettingsMap": {
      "0": {
       "dataGridStateBlob": "{\"version\":1,\"tableState\":{\"columnPinning\":{\"left\":[\"#row_number#\"],\"right\":[]},\"columnSizing\":{},\"columnVisibility\":{}},\"settings\":{\"columns\":{}},\"syncTimestamp\":1754138608205}",
       "filterBlob": null,
       "queryPlanFiltersBlob": null,
       "tableResultIndex": 0
      }
     },
     "title": ""
    }
   },
   "outputs": [],
   "source": [
    "df_target.alias('t').merge(df_source5.alias('s'),'t.id=s.id and t.curr_rec_ind=\"Y\"').whenNotMatchedInsert(values={'id':'s.id','name':'s.name','age':'s.age','gender':'s.gender','curr_rec_ind':lit('Y'),'start_ts':current_date(),'end_ts':'null'}).execute()\n",
    "df_target.toDF().display()"
   ]
  },
  {
   "cell_type": "code",
   "execution_count": 0,
   "metadata": {
    "application/vnd.databricks.v1+cell": {
     "cellMetadata": {
      "byteLimit": 2048000,
      "rowLimit": 10000
     },
     "inputWidgets": {},
     "nuid": "f580d9b4-2766-4bc1-80b9-9a48e5103c6e",
     "showTitle": false,
     "tableResultSettingsMap": {
      "0": {
       "dataGridStateBlob": "{\"version\":1,\"tableState\":{\"columnPinning\":{\"left\":[\"#row_number#\"],\"right\":[]},\"columnSizing\":{},\"columnVisibility\":{}},\"settings\":{\"columns\":{}},\"syncTimestamp\":1754139375922}",
       "filterBlob": null,
       "queryPlanFiltersBlob": null,
       "tableResultIndex": 0
      }
     },
     "title": ""
    }
   },
   "outputs": [],
   "source": [
    "df=df_target.toDF().withColumn('hash_key',md5(concat_ws('-',col('id'),col('name'),col('age'),col('gender'))))\n",
    "\n",
    "df.write.format('delta').mode('overwrite').option('mergeSchema','true').saveAsTable('scd_type0')\n",
    "\n",
    "df_target = DeltaTable.forName(spark,'scd_type0')\n",
    "df_target.toDF().display()"
   ]
  },
  {
   "cell_type": "code",
   "execution_count": 0,
   "metadata": {
    "application/vnd.databricks.v1+cell": {
     "cellMetadata": {
      "byteLimit": 2048000,
      "rowLimit": 10000
     },
     "inputWidgets": {},
     "nuid": "7eaf965f-1eca-458a-a1de-0eb8391144be",
     "showTitle": false,
     "tableResultSettingsMap": {
      "0": {
       "dataGridStateBlob": "{\"version\":1,\"tableState\":{\"columnPinning\":{\"left\":[\"#row_number#\"],\"right\":[]},\"columnSizing\":{},\"columnVisibility\":{}},\"settings\":{\"columns\":{}},\"syncTimestamp\":1754139356332}",
       "filterBlob": null,
       "queryPlanFiltersBlob": null,
       "tableResultIndex": 0
      }
     },
     "title": ""
    }
   },
   "outputs": [],
   "source": [
    "df_source_hash=df_source5.withColumn('hash_key',md5(concat_ws('-',col('id'),col('name'),col('age'),col('gender'))))\n",
    "\n",
    "df_source_hash.display()"
   ]
  },
  {
   "cell_type": "code",
   "execution_count": 0,
   "metadata": {
    "application/vnd.databricks.v1+cell": {
     "cellMetadata": {
      "byteLimit": 2048000,
      "rowLimit": 10000
     },
     "inputWidgets": {},
     "nuid": "61031523-d437-4263-95ac-c810758dff35",
     "showTitle": false,
     "tableResultSettingsMap": {
      "1": {
       "dataGridStateBlob": "{\"version\":1,\"tableState\":{\"columnPinning\":{\"left\":[\"#row_number#\"],\"right\":[]},\"columnSizing\":{},\"columnVisibility\":{}},\"settings\":{\"columns\":{}},\"syncTimestamp\":1754139603100}",
       "filterBlob": null,
       "queryPlanFiltersBlob": null,
       "tableResultIndex": 1
      }
     },
     "title": ""
    }
   },
   "outputs": [],
   "source": [
    "df_target.alias('t').merge(df_source_hash.alias('s'),'t.id=s.id and t.hash_key!=s.hash_key').whenMatchedUpdate(condition='t.hash_key!=s.hash_key',set={'curr_rec_ind':lit('N'),'end_ts':current_date()}).whenNotMatchedInsert(values={'id':'s.id','name':'s.name','age':'s.age','gender':'s.gender','curr_rec_ind':lit('Y'),'start_ts':current_date(),'end_ts':'null'}).execute()\n",
    "df_target.toDF().display()\n",
    "df_target.alias('t').merge(df_source_hash.alias('s'),'t.id=s.id and t.curr_rec_ind=\"Y\"').whenNotMatchedInsert(values={'id':'s.id','name':'s.name','age':'s.age','gender':'s.gender','curr_rec_ind':lit('Y'),'start_ts':current_date(),'end_ts':'null'}).execute()\n",
    "df_target.toDF().display()"
   ]
  },
  {
   "cell_type": "markdown",
   "metadata": {
    "application/vnd.databricks.v1+cell": {
     "cellMetadata": {},
     "inputWidgets": {},
     "nuid": "264a37c1-a5f9-4c96-9896-30d1260ca22a",
     "showTitle": false,
     "tableResultSettingsMap": {},
     "title": ""
    }
   },
   "source": [
    "# SCD type 3"
   ]
  },
  {
   "cell_type": "code",
   "execution_count": 0,
   "metadata": {
    "application/vnd.databricks.v1+cell": {
     "cellMetadata": {
      "byteLimit": 2048000,
      "rowLimit": 10000
     },
     "inputWidgets": {},
     "nuid": "8555b7a7-8906-4a79-8f43-f3177a1d18b1",
     "showTitle": false,
     "tableResultSettingsMap": {},
     "title": ""
    }
   },
   "outputs": [],
   "source": [
    "from pyspark.sql import SparkSession\n",
    "from pyspark.sql.functions import to_timestamp\n",
    "from pyspark.sql.types import StructType, StructField, IntegerType, StringType, TimestampType\n",
    "\n",
    "spark = SparkSession.builder.appName(\"SCD3\").getOrCreate()\n"
   ]
  },
  {
   "cell_type": "code",
   "execution_count": 0,
   "metadata": {
    "application/vnd.databricks.v1+cell": {
     "cellMetadata": {
      "byteLimit": 2048000,
      "rowLimit": 10000
     },
     "inputWidgets": {},
     "nuid": "aa8631ff-1377-40ff-807f-ff4d13081b97",
     "showTitle": false,
     "tableResultSettingsMap": {},
     "title": ""
    }
   },
   "outputs": [],
   "source": [
    "# Target data\n",
    "target_data = [\n",
    "    (1, \"John\", \"New York\", None),\n",
    "    (2, \"Alice\", \"Boston\", None),\n",
    "    (5,\"smith\",\"NY\",None),\n",
    "    (6,\"ram\",\"LA\",None)\n",
    "]\n",
    "\n",
    "target_schema = StructType([\n",
    "    StructField(\"id\", IntegerType(), True),\n",
    "    StructField(\"name\", StringType(), True),\n",
    "    StructField(\"current_location\", StringType(), True),\n",
    "    StructField(\"previous_location\", StringType(), True)\n",
    "])\n",
    "\n",
    "target_df = spark.createDataFrame(target_data, schema=target_schema) \n",
    "\n",
    "target_df.write.format('delta').mode('overwrite').option('mergeSchema','true').saveAsTable('scd_type3')\n",
    "target_df = DeltaTable.forName(spark,'scd_type3')\n",
    "target_df.toDF().display()\n"
   ]
  },
  {
   "cell_type": "code",
   "execution_count": 0,
   "metadata": {
    "application/vnd.databricks.v1+cell": {
     "cellMetadata": {
      "byteLimit": 2048000,
      "rowLimit": 10000
     },
     "inputWidgets": {},
     "nuid": "565ea98b-d140-438f-ab57-41b1b4353ee6",
     "showTitle": false,
     "tableResultSettingsMap": {},
     "title": ""
    }
   },
   "outputs": [],
   "source": [
    "# after some dya i got a source file\n",
    "\n",
    "# Source data\n",
    "source_data = [\n",
    "    (1, \"John\", \"Chicago\"),\n",
    "    (2, \"Alice\", \"Boston\"),\n",
    "    (3, \"Bob\", \"Seattle\")\n",
    "]\n",
    "\n",
    "source_schema = StructType([\n",
    "    StructField(\"id\", IntegerType(), True),\n",
    "    StructField(\"name\", StringType(), True),\n",
    "    StructField(\"location\", StringType(), True)\n",
    "])\n",
    "\n",
    "source_df = spark.createDataFrame(source_data, schema=source_schema) \n",
    "source_df.display()\n"
   ]
  },
  {
   "cell_type": "code",
   "execution_count": 0,
   "metadata": {
    "application/vnd.databricks.v1+cell": {
     "cellMetadata": {
      "byteLimit": 2048000,
      "rowLimit": 10000
     },
     "inputWidgets": {},
     "nuid": "e1107e3a-b906-4f02-b221-69021e1051cf",
     "showTitle": false,
     "tableResultSettingsMap": {},
     "title": ""
    }
   },
   "outputs": [],
   "source": [
    "target_df.alias('t').merge(\n",
    "    source_df.alias('s'),\n",
    "    't.id = s.id'\n",
    ").whenMatchedUpdate(\n",
    "    set={\n",
    "        'previous_location': 't.current_location',\n",
    "        'current_location': 's.location'\n",
    "    }\n",
    ").whenNotMatchedInsert(\n",
    "    values={\n",
    "        'id': 's.id',\n",
    "        'name': 's.name',\n",
    "        'current_location': 's.location',\n",
    "        'previous_location': 'null'\n",
    "    }\n",
    ").execute()"
   ]
  },
  {
   "cell_type": "code",
   "execution_count": 0,
   "metadata": {
    "application/vnd.databricks.v1+cell": {
     "cellMetadata": {
      "byteLimit": 2048000,
      "rowLimit": 10000
     },
     "inputWidgets": {},
     "nuid": "0c024813-7cbf-48b3-9ff6-d6988e11e9aa",
     "showTitle": false,
     "tableResultSettingsMap": {},
     "title": ""
    }
   },
   "outputs": [],
   "source": [
    "target_df.toDF().display()\n"
   ]
  }
 ],
 "metadata": {
  "application/vnd.databricks.v1+notebook": {
   "computePreferences": {
    "hardware": {
     "accelerator": null,
     "gpuPoolId": null,
     "memory": "HIGH"
    }
   },
   "dashboards": [],
   "environmentMetadata": {
    "base_environment": "",
    "environment_version": "3"
   },
   "inputWidgetPreferences": null,
   "language": "python",
   "notebookMetadata": {
    "mostRecentlyExecutedCommandWithImplicitDF": {
     "commandId": 4517048512296328,
     "dataframes": [
      "_sqldf"
     ]
    },
    "pythonIndentUnit": 4
   },
   "notebookName": "SCD_pratice_02-08-2025",
   "widgets": {}
  },
  "language_info": {
   "name": "python"
  }
 },
 "nbformat": 4,
 "nbformat_minor": 0
}
